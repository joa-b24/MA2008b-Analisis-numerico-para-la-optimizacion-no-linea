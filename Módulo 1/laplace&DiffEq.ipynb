{
 "cells": [
  {
   "cell_type": "markdown",
   "metadata": {},
   "source": [
    "## Transformada"
   ]
  },
  {
   "cell_type": "code",
   "execution_count": 1,
   "metadata": {
    "vscode": {
     "languageId": "plaintext"
    }
   },
   "outputs": [
    {
     "name": "stdout",
     "output_type": "stream",
     "text": [
      "-1/(a - s)\n"
     ]
    }
   ],
   "source": [
    "t,s,a = var('t s a')\n",
    "f = exp(a*t)\n",
    "L = laplace(f, t, s)\n",
    "print(L)"
   ]
  },
  {
   "cell_type": "markdown",
   "metadata": {},
   "source": [
    "## Transformada inversa"
   ]
  },
  {
   "cell_type": "code",
   "execution_count": null,
   "metadata": {
    "vscode": {
     "languageId": "plaintext"
    }
   },
   "outputs": [
    {
     "name": "stdout",
     "output_type": "stream",
     "text": [
      "sin(t)\n"
     ]
    }
   ],
   "source": [
    "var('s t')\n",
    "F = 1/(s^2 + 1)\n",
    "f_t = inverse_laplace(F, s, t)\n",
    "print(f_t)"
   ]
  },
  {
   "cell_type": "markdown",
   "metadata": {},
   "source": [
    "## Solver de ecuaciones diferernciales (2do orden)\n",
    "\n",
    "$ y'' - 3y' - 4y = \\sin (x)  \\quad y(0) = 1, \\quad y'(0) = -1$"
   ]
  },
  {
   "cell_type": "code",
   "execution_count": 11,
   "metadata": {
    "vscode": {
     "languageId": "plaintext"
    }
   },
   "outputs": [],
   "source": [
    "def L(y,x):\n",
    "    return diff(y, x, x) - 3*diff(y, x) - 4*y"
   ]
  },
  {
   "cell_type": "code",
   "execution_count": 12,
   "metadata": {
    "vscode": {
     "languageId": "plaintext"
    }
   },
   "outputs": [
    {
     "name": "stdout",
     "output_type": "stream",
     "text": [
      "s^2*laplace(y(x), x, s) - 3*s*laplace(y(x), x, s) - s*y(0) - 4*laplace(y(x), x, s) + 3*y(0) - D[0](y)(0) == (1/(s^2 + 1))\n"
     ]
    }
   ],
   "source": [
    "var('x s')\n",
    "y = function('y')(x)\n",
    "deq = L(y, x) == sin(x)\n",
    "L_deq = laplace(deq, x, s)\n",
    "print(L_deq)"
   ]
  },
  {
   "cell_type": "code",
   "execution_count": null,
   "metadata": {
    "vscode": {
     "languageId": "plaintext"
    }
   },
   "outputs": [
    {
     "name": "stdout",
     "output_type": "stream",
     "text": [
      "Y*s^2 - 3*Y*s - 4*Y - s + 4 == (1/(s^2 + 1))\n"
     ]
    }
   ],
   "source": [
    "# Solve L_deq for Y(s)\n",
    "\n",
    "Y, a, b = var(\"Y, a, b\")\n",
    "\n",
    "substitutions = {\n",
    "    laplace(y, x, s): Y,\n",
    "    y(x=0): 1, # Condicion inicial para y(0)\n",
    "    diff(y, x).subs(x==0): -1 # Condición inicial para y'(0)\n",
    "}\n",
    "\n",
    "L_algebraic = L_deq.subs(substitutions)\n",
    "\n",
    "print(L_algebraic)"
   ]
  },
  {
   "cell_type": "markdown",
   "metadata": {},
   "source": [
    "Despeje de la función Y"
   ]
  },
  {
   "cell_type": "code",
   "execution_count": 14,
   "metadata": {
    "vscode": {
     "languageId": "plaintext"
    }
   },
   "outputs": [
    {
     "name": "stdout",
     "output_type": "stream",
     "text": [
      "[{Y: (s^3 - 4*s^2 + s - 3)/(s^4 - 3*s^3 - 3*s^2 - 3*s - 4)}]\n"
     ]
    }
   ],
   "source": [
    "algebraic_solutions = solve(L_algebraic, Y, solution_dict=True)\n",
    "print(algebraic_solutions)"
   ]
  },
  {
   "cell_type": "markdown",
   "metadata": {},
   "source": [
    "Sagemath puede calcular la inversa sin necesidad de calcular las fracciones parciales con:"
   ]
  },
  {
   "cell_type": "code",
   "execution_count": 15,
   "metadata": {
    "vscode": {
     "languageId": "plaintext"
    }
   },
   "outputs": [
    {
     "name": "stdout",
     "output_type": "stream",
     "text": [
      "3/34*cos(x) + 1/85*e^(4*x) + 9/10*e^(-x) - 5/34*sin(x)\n"
     ]
    }
   ],
   "source": [
    "y_x = inverse_laplace(algebraic_solutions[0][Y], s, x)\n",
    "print(y_x)"
   ]
  },
  {
   "cell_type": "markdown",
   "metadata": {},
   "source": [
    "Aún así podemos calcular las fracciones parciales con el siguiente método:"
   ]
  },
  {
   "cell_type": "code",
   "execution_count": null,
   "metadata": {
    "vscode": {
     "languageId": "plaintext"
    }
   },
   "outputs": [
    {
     "name": "stderr",
     "output_type": "stream",
     "text": [
      "Matplotlib is building the font cache; this may take a moment.\n"
     ]
    },
    {
     "data": {
      "text/plain": [
       "[1/34*(3*s - 5)/(s^2 + 1), 9/10/(s + 1), 1/85/(s - 4)]"
      ]
     },
     "execution_count": 16,
     "metadata": {},
     "output_type": "execute_result"
    }
   ],
   "source": [
    "F = algebraic_solutions[0][Y]\n",
    "F.partial_fraction_decomposition()"
   ]
  },
  {
   "cell_type": "markdown",
   "metadata": {},
   "source": [
    "### Comprobación del resultado"
   ]
  },
  {
   "cell_type": "code",
   "execution_count": 17,
   "metadata": {
    "vscode": {
     "languageId": "plaintext"
    }
   },
   "outputs": [
    {
     "data": {
      "text/plain": [
       "sin(x)"
      ]
     },
     "execution_count": 17,
     "metadata": {},
     "output_type": "execute_result"
    }
   ],
   "source": [
    "L(y_x, x)"
   ]
  },
  {
   "cell_type": "code",
   "execution_count": 23,
   "metadata": {
    "vscode": {
     "languageId": "plaintext"
    }
   },
   "outputs": [
    {
     "name": "stdout",
     "output_type": "stream",
     "text": [
      "y(0) =  1\n"
     ]
    }
   ],
   "source": [
    "print(\"y(0) = \", y_x(x=0))"
   ]
  },
  {
   "cell_type": "code",
   "execution_count": 22,
   "metadata": {
    "vscode": {
     "languageId": "plaintext"
    }
   },
   "outputs": [
    {
     "name": "stdout",
     "output_type": "stream",
     "text": [
      "y'(0) =  -1\n"
     ]
    }
   ],
   "source": [
    "print(\"y'(0) = \" , diff(y_x, x).subs(x=0))"
   ]
  },
  {
   "cell_type": "markdown",
   "metadata": {},
   "source": [
    "## Ecuaciones simbólicas"
   ]
  },
  {
   "cell_type": "markdown",
   "metadata": {},
   "source": [
    "$y' + y - 2 = 0 \\Longrightarrow y(x) = (k +2e^x) e^{-x}= ke^{-x} +2$"
   ]
  },
  {
   "cell_type": "code",
   "execution_count": 3,
   "metadata": {
    "vscode": {
     "languageId": "plaintext"
    }
   },
   "outputs": [
    {
     "name": "stdout",
     "output_type": "stream",
     "text": [
      "(_C + 2*e^x)*e^(-x)\n"
     ]
    }
   ],
   "source": [
    "y = function('y')(x)\n",
    "de = diff(y,x) + y -2\n",
    "h = desolve(de, y)\n",
    "print(h)"
   ]
  },
  {
   "cell_type": "code",
   "execution_count": 4,
   "metadata": {
    "vscode": {
     "languageId": "plaintext"
    }
   },
   "outputs": [
    {
     "data": {
      "text/plain": [
       "_C*e^(-x) + 2"
      ]
     },
     "execution_count": 4,
     "metadata": {},
     "output_type": "execute_result"
    }
   ],
   "source": [
    "expand(h)"
   ]
  },
  {
   "cell_type": "markdown",
   "metadata": {},
   "source": [
    "Se pueden añadir las condiciones iniciales y obtenemos la forma general de la función "
   ]
  },
  {
   "cell_type": "code",
   "execution_count": 12,
   "metadata": {
    "vscode": {
     "languageId": "plaintext"
    }
   },
   "outputs": [
    {
     "data": {
      "image/png": "[encoded data removed]",
      "text/plain": [
       "Graphics object consisting of 3 graphics primitives"
      ]
     },
     "execution_count": 12,
     "metadata": {},
     "output_type": "execute_result"
    }
   ],
   "source": [
    "y = var('y') \n",
    "Plot1=plot_slope_field(2-y,(x,0,3),(y,0,5))\n",
    "Plot2=plot(h,x,0,3)\n",
    "Point=point((0,3),pointsize=30,rgbcolor=(1,0,0))\n",
    "Plot1+Plot2+Point "
   ]
  },
  {
   "cell_type": "code",
   "execution_count": 13,
   "metadata": {
    "vscode": {
     "languageId": "plaintext"
    }
   },
   "outputs": [
    {
     "name": "stdout",
     "output_type": "stream",
     "text": [
      "\u001b[0;31mType:\u001b[0m            module\n",
      "\u001b[0;31mString form:\u001b[0m     <module 'sage.calculus.desolvers' from '/usr/lib/python3/dist-packages/sage/calculus/desolvers.py'>\n",
      "\u001b[0;31mFile:\u001b[0m            /usr/lib/python3/dist-packages/sage/calculus/desolvers.py\n",
      "\u001b[0;31mDocstring:\u001b[0m      \n",
      "Solving ordinary differential equations\n",
      "\n",
      "This file contains functions useful for solving differential equations\n",
      "which occur commonly in a 1st semester differential equations course.\n",
      "For another numerical solver see the \"ode_solver()\" function and the\n",
      "optional package Octave.\n",
      "\n",
      "Solutions from the Maxima package can contain the three constants\n",
      "\"_C\", \"_K1\", and \"_K2\" where the underscore is used to distinguish\n",
      "them from symbolic variables that the user might have used. You can\n",
      "substitute values for them, and make them into accessible usable\n",
      "symbolic variables, for example with \"var(\"_C\")\".\n",
      "\n",
      "Commands:\n",
      "\n",
      "* \"desolve()\" - Compute the \"general solution\" to a 1st or 2nd order\n",
      "  ODE via Maxima.\n",
      "\n",
      "* \"desolve_laplace()\" - Solve an ODE using Laplace transforms via\n",
      "  Maxima. Initial conditions are optional.\n",
      "\n",
      "* \"desolve_rk4()\" - Solve numerically an IVP for one first order\n",
      "  equation, return list of points or plot.\n",
      "\n",
      "* \"desolve_system_rk4()\" - Solve numerically an IVP for a system of\n",
      "  first order equations, return list of points.\n",
      "\n",
      "* \"desolve_odeint()\" - Solve numerically a system of first-order\n",
      "  ordinary differential equations using \"odeint\" from scipy.integrate\n",
      "  module.\n",
      "\n",
      "* \"desolve_system()\" - Solve a system of 1st order ODEs of any size\n",
      "  using Maxima. Initial conditions are optional.\n",
      "\n",
      "* \"eulers_method()\" - Approximate solution to a 1st order DE,\n",
      "  presented as a table.\n",
      "\n",
      "* \"eulers_method_2x2()\" - Approximate solution to a 1st order system\n",
      "  of DEs, presented as a table.\n",
      "\n",
      "* \"eulers_method_2x2_plot()\" - Plot the sequence of points obtained\n",
      "  from Euler's method.\n",
      "\n",
      "The following functions require the optional package \"tides\":\n",
      "\n",
      "* \"desolve_mintides()\" - Numerical solution of a system of 1st order\n",
      "  ODEs via the Taylor series integrator method implemented in TIDES.\n",
      "\n",
      "* \"desolve_tides_mpfr()\" - Arbitrary precision Taylor series\n",
      "  integrator implemented in TIDES.\n",
      "\n",
      "AUTHORS:\n",
      "\n",
      "* David Joyner (3-2006) - Initial version of functions\n",
      "\n",
      "* Marshall Hampton (7-2007) - Creation of Python module and testing\n",
      "\n",
      "* Robert Bradshaw (10-2008) - Some interface cleanup.\n",
      "\n",
      "* Robert Marik (10-2009) - Some bugfixes and enhancements\n",
      "\n",
      "* Miguel Marco (06-2014) - Tides desolvers\n",
      "\u001b[0;31mClass docstring:\u001b[0m\n",
      "Create a module object.\n",
      "\n",
      "The name must be a string; the optional doc argument can have any\n",
      "type.\n",
      "\u001b[0;31mInit docstring:\u001b[0m  Initialize self.  See help(type(self)) for accurate signature.\n"
     ]
    }
   ],
   "source": [
    "desolvers?"
   ]
  },
  {
   "cell_type": "markdown",
   "metadata": {},
   "source": [
    "## Soluciones numéricas (Runge Kutta)"
   ]
  },
  {
   "cell_type": "code",
   "execution_count": 19,
   "metadata": {
    "vscode": {
     "languageId": "plaintext"
    }
   },
   "outputs": [],
   "source": [
    "y = function('y')(x)\n",
    "de = diff(y,x) + y -2\n",
    "h = desolve_rk4(de, y, step=.1, ics=[0,3]) # rk4 devuelve una malla"
   ]
  },
  {
   "cell_type": "code",
   "execution_count": 24,
   "metadata": {
    "vscode": {
     "languageId": "plaintext"
    }
   },
   "outputs": [
    {
     "data": {
      "image/png": "[encoded data removed]",
      "text/plain": [
       "Graphics object consisting of 2 graphics primitives"
      ]
     },
     "execution_count": 24,
     "metadata": {},
     "output_type": "execute_result"
    }
   ],
   "source": [
    "h1 = desolve(de, y, ics=[0,3])\n",
    "plot(h1,(x,0,10),color='red')+points(h)\n"
   ]
  },
  {
   "cell_type": "markdown",
   "metadata": {},
   "source": [
    "## Solución aproximada con series de potencia"
   ]
  },
  {
   "cell_type": "code",
   "execution_count": 25,
   "metadata": {
    "vscode": {
     "languageId": "plaintext"
    }
   },
   "outputs": [
    {
     "data": {
      "text/plain": [
       "3 - t + 1/2*t^2 - 1/6*t^3 + 1/24*t^4 - 1/120*t^5 + 1/720*t^6 - 1/5040*t^7 + 1/40320*t^8 - 1/362880*t^9 + O(t^10)"
      ]
     },
     "execution_count": 25,
     "metadata": {},
     "output_type": "execute_result"
    }
   ],
   "source": [
    "R.<t> = PowerSeriesRing(QQ, default_prec=10)\n",
    "a = -1 + 0*t\n",
    "b = 2 + 0*t\n",
    "h=a.solve_linear_de(b=b,f0=3,prec=10)\n",
    "h"
   ]
  },
  {
   "cell_type": "code",
   "execution_count": 26,
   "metadata": {
    "vscode": {
     "languageId": "plaintext"
    }
   },
   "outputs": [
    {
     "data": {
      "text/plain": [
       "-1/362880*t^9 + 1/40320*t^8 - 1/5040*t^7 + 1/720*t^6 - 1/120*t^5 + 1/24*t^4 - 1/6*t^3 + 1/2*t^2 - t + 3"
      ]
     },
     "execution_count": 26,
     "metadata": {},
     "output_type": "execute_result"
    }
   ],
   "source": [
    "h = h.polynomial()\n",
    "h"
   ]
  },
  {
   "cell_type": "code",
   "execution_count": 27,
   "metadata": {
    "vscode": {
     "languageId": "plaintext"
    }
   },
   "outputs": [
    {
     "data": {
      "image/png": "[encoded data removed]",
      "text/plain": [
       "Graphics object consisting of 2 graphics primitives"
      ]
     },
     "execution_count": 27,
     "metadata": {},
     "output_type": "execute_result"
    }
   ],
   "source": [
    "plot(h,-2,5)+plot(2+e^-x,(x,-2,5),color='red',linestyle=':',thickness=3)"
   ]
  },
  {
   "cell_type": "code",
   "execution_count": null,
   "metadata": {
    "vscode": {
     "languageId": "plaintext"
    }
   },
   "outputs": [],
   "source": []
  }
 ],
 "metadata": {
  "kernelspec": {
   "display_name": "SageMath 9.5",
   "language": "sage",
   "name": "sagemath"
  },
  "language_info": {
   "codemirror_mode": {
    "name": "ipython",
    "version": 3
   },
   "file_extension": ".py",
   "mimetype": "text/x-python",
   "name": "python",
   "nbconvert_exporter": "python",
   "pygments_lexer": "ipython3",
   "version": "3.10.12"
  }
 },
 "nbformat": 4,
 "nbformat_minor": 2
}
